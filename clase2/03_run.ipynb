{
 "cells": [
  {
   "cell_type": "markdown",
   "metadata": {},
   "source": [
    "# Fitness Trends Dataset A dataset of fitness trends and how they change with exercise\n",
    "\n",
    "## Parte 2: Selección de Modelos\n",
    "\n",
    "[Fitness Trends Dataset A dataset of fitness trends and how they change with exercise](https://www.kaggle.com/aroojanwarkhan/fitness-data-trends/)\n",
    "\n",
    "Clases para el STAN de [Liricus SRL](http://www.liricus.com.ar)\n",
    "\n",
    "Dictado durante 3 clases en el primer semestre del 2019 por personal del [IATE-OAC-CONICET](http://iate.oac.uncor.edu/)"
   ]
  },
  {
   "cell_type": "markdown",
   "metadata": {},
   "source": [
    "## Librerias a usar"
   ]
  },
  {
   "cell_type": "code",
   "execution_count": null,
   "metadata": {},
   "outputs": [],
   "source": [
    "# contador\n",
    "import pickle\n",
    "\n",
    "# computo numerico convencional\n",
    "import numpy as np\n",
    "\n",
    "# dataframes\n",
    "import pandas as pd\n",
    "\n",
    "# importamos plots\n",
    "%matplotlib inline\n",
    "import matplotlib.pyplot as plt\n",
    "from matplotlib import cm\n",
    "\n",
    "# mejor manejo de dataframes para plot\n",
    "import seaborn as sns\n",
    "\n",
    "# ML\n",
    "from sklearn.ensemble import RandomForestClassifier\n",
    "from sklearn.neighbors import KNeighborsClassifier\n",
    "from sklearn.svm import SVC\n",
    "\n",
    "from sklearn.model_selection import train_test_split\n",
    "\n",
    "from sklearn.metrics import classification_report, roc_curve, auc\n",
    "\n",
    "# fijamos el estado de random\n",
    "np.random.seed(42)\n",
    "\n",
    "# apagamos warnings\n",
    "import warnings\n",
    "warnings.filterwarnings(\"ignore\")\n",
    "\n",
    "from IPython.display import display, Markdown"
   ]
  },
  {
   "cell_type": "code",
   "execution_count": null,
   "metadata": {},
   "outputs": [],
   "source": [
    "import joblib\n",
    "cpu = joblib.cpu_count()\n",
    "print(cpu)"
   ]
  },
  {
   "cell_type": "code",
   "execution_count": null,
   "metadata": {},
   "outputs": [],
   "source": [
    "Xc = [\"step_count\", \"mood\", \"calories_burned\", \"hours_of_sleep\", \"weight_kg\"]\n",
    "yc = \"bool_of_active\""
   ]
  },
  {
   "cell_type": "markdown",
   "metadata": {},
   "source": [
    "### Recreamos los datos"
   ]
  },
  {
   "cell_type": "code",
   "execution_count": null,
   "metadata": {},
   "outputs": [],
   "source": [
    "df = pd.read_pickle(\"out/scaled_df.pkl\")\n",
    "\n",
    "X = df[Xc].values\n",
    "y = df[yc].values\n",
    "\n",
    "X_train, X_test, y_train, y_test = train_test_split(\n",
    "    X, y, test_size=0.3, random_state=0)"
   ]
  },
  {
   "cell_type": "markdown",
   "metadata": {},
   "source": [
    "### Recreamos los clasificadores"
   ]
  },
  {
   "cell_type": "code",
   "execution_count": null,
   "metadata": {},
   "outputs": [],
   "source": [
    "with open(\"out/best_results.pkl\", \"rb\") as fp:\n",
    "    bests = pickle.load(fp)\n",
    "\n",
    "out = []\n",
    "for clf, results in bests.items():\n",
    "    out.append(f\"#### {clf}\")\n",
    "    for score, best in results.items():\n",
    "        out.append(f\"- **{score}**: {best}\")\n",
    "    out.append(\"\")\n",
    "\n",
    "display(Markdown(\"\\n\".join(out)))\n",
    "\n",
    "clfs = {\n",
    "    \"svc\": SVC(probability=True, **bests[\"SVC\"][\"precision\"]),\n",
    "    \"rf_p\": RandomForestClassifier(**bests[\"RandomForestClassifier\"][\"precision\"]),\n",
    "    \"rf_r\": RandomForestClassifier(**bests[\"RandomForestClassifier\"][\"recall\"]),\n",
    "    \"knn\": KNeighborsClassifier(**bests[\"KNeighborsClassifier\"][\"precision\"])}"
   ]
  },
  {
   "cell_type": "markdown",
   "metadata": {},
   "source": [
    "### Ejecutamos los clasificadores"
   ]
  },
  {
   "cell_type": "code",
   "execution_count": null,
   "metadata": {},
   "outputs": [],
   "source": [
    "for name, clf in clfs.items():\n",
    "    print(f\"Model {name}\")\n",
    "    clf.fit(X_train, y_train)\n",
    "    y_true, y_pred = y_test, clf.predict(X_test)\n",
    "    print(classification_report(y_true, y_pred))\n",
    "    print(\"-\" * 40)"
   ]
  },
  {
   "cell_type": "markdown",
   "metadata": {},
   "source": [
    "### Curva ROC"
   ]
  },
  {
   "cell_type": "code",
   "execution_count": null,
   "metadata": {},
   "outputs": [],
   "source": [
    "fig, ax = plt.subplots(figsize=(10, 8))\n",
    "\n",
    "plt.title(\"ROC Curve\")\n",
    "\n",
    "cmap = cm.get_cmap(\"viridis\")\n",
    "colors = iter(cmap(4))\n",
    "\n",
    "legends = []\n",
    "for name, clf in clfs.items():\n",
    "    \n",
    "    y_probas = clf.predict_proba(X_test)\n",
    "       \n",
    "    preds = y_probas[:,1]\n",
    "    fpr, tpr, threshold = roc_curve(y_test, preds)\n",
    "    roc_auc = auc(fpr, tpr)\n",
    "\n",
    "    ax.plot(fpr, tpr, next(colors))\n",
    "    legends.append(f'{name} - AUC={roc_auc:.2f}')\n",
    "\n",
    "    \n",
    "ax.set_ylabel('True Positive Rate')\n",
    "ax.set_xlabel('False Positive Rate');    \n",
    "ax.legend(legends, loc = 'lower right')\n",
    "\n",
    "ax.plot([0, 1], [0, 1],'r--')\n",
    "ax.set_xlim([0, 1.01])\n",
    "ax.set_ylim([0, 1.01])\n"
   ]
  },
  {
   "cell_type": "markdown",
   "metadata": {},
   "source": [
    "----\n",
    "\n",
    "### Y como se usa?\n",
    "\n",
    "supongamos que tenemos una observacion nueva"
   ]
  },
  {
   "cell_type": "code",
   "execution_count": null,
   "metadata": {},
   "outputs": [],
   "source": [
    "obs = [\n",
    "    1000, # step count\n",
    "    200, # mod regular\n",
    "    100, # calories_burned\n",
    "    7.5, # hours_of_sleep,\n",
    "    68, # weight\n",
    "]"
   ]
  },
  {
   "cell_type": "markdown",
   "metadata": {},
   "source": [
    "#### 1. Se escala la observacion con los datos **DE ENTRENAMIENTO**"
   ]
  },
  {
   "cell_type": "code",
   "execution_count": null,
   "metadata": {},
   "outputs": [],
   "source": [
    "with open(\"out/scaler.pkl\", \"rb\") as fp:\n",
    "    scaler = pickle.load(fp)"
   ]
  },
  {
   "cell_type": "code",
   "execution_count": null,
   "metadata": {},
   "outputs": [],
   "source": [
    "obs = scaler.transform([obs])"
   ]
  },
  {
   "cell_type": "markdown",
   "metadata": {},
   "source": [
    "#### 2. Se entrena con **TODO**"
   ]
  },
  {
   "cell_type": "code",
   "execution_count": null,
   "metadata": {},
   "outputs": [],
   "source": [
    "clf = RandomForestClassifier(**bests[\"RandomForestClassifier\"][\"precision\"])\n",
    "clf.fit(X, y)"
   ]
  },
  {
   "cell_type": "markdown",
   "metadata": {},
   "source": [
    "#### 3. Se predice"
   ]
  },
  {
   "cell_type": "code",
   "execution_count": null,
   "metadata": {},
   "outputs": [],
   "source": [
    "clf.predict(obs)"
   ]
  },
  {
   "cell_type": "code",
   "execution_count": null,
   "metadata": {},
   "outputs": [],
   "source": [
    "clf.predict_proba(obs)"
   ]
  }
 ],
 "metadata": {
  "kernelspec": {
   "display_name": "Python 3",
   "language": "python",
   "name": "python3"
  },
  "language_info": {
   "codemirror_mode": {
    "name": "ipython",
    "version": 3
   },
   "file_extension": ".py",
   "mimetype": "text/x-python",
   "name": "python",
   "nbconvert_exporter": "python",
   "pygments_lexer": "ipython3",
   "version": "3.7.3"
  }
 },
 "nbformat": 4,
 "nbformat_minor": 2
}
